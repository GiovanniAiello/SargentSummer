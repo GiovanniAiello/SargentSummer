{
 "metadata": {
  "name": "dolo"
 },
 "nbformat": 3,
 "nbformat_minor": 0,
 "worksheets": [
  {
   "cells": [
    {
     "cell_type": "code",
     "collapsed": false,
     "input": [
      "from dolo import *\n",
      "from dolo.numeric.decision_rules import stoch_simul, impulse_response_function\n",
      "import numpy as np\n",
      "import pandas as pd"
     ],
     "language": "python",
     "metadata": {},
     "outputs": [],
     "prompt_number": 1
    },
    {
     "cell_type": "code",
     "collapsed": false,
     "input": [
      "model = yaml_import('Figv4_1191.yaml')\n",
      "model"
     ],
     "language": "python",
     "metadata": {},
     "outputs": [
      {
       "html": [
        "<table>\t<tr>\n",
        "\t\t<td> </td>\n",
        "\t\t<td>Equations </td>\n",
        "</tr>\n",
        "\t<tr>\n",
        "\t\t<td>1 </td>\n",
        "\t\t<td>$k_{t} = A k_{t-1}^{\\alpha} - g_{t} - c_{t} + k_{t-1} \\left(- \\delta + 1\\right)$ </td>\n",
        "\t\t<td>-0.400000435866 </td>\n",
        "</tr>\n",
        "\t<tr>\n",
        "\t\t<td>2 </td>\n",
        "\t\t<td>$c_{t}^{- \\gamma} = \\frac{\\beta c_{t+1}^{- \\gamma} \\left(\\tau_{c,t} + 1\\right) \\left(A \\alpha k_{t}^{\\alpha -1} \\left(- \\tau_{k,t+1} + 1\\right) - \\delta + 1\\right)}{\\tau_{c,t+1} + 1}$ </td>\n",
        "\t\t<td>1.93144523686e-06 </td>\n",
        "</tr>\n",
        "</table>"
       ],
       "metadata": {},
       "output_type": "pyout",
       "prompt_number": 14,
       "text": [
        "{'covariances': [1.0,   0,   0]\n",
        "[  0, 1.0,   0]\n",
        "[  0,   0, 1.0],\n",
        " 'equations': [k == A*k(-1)**alpha - g - c + k(-1)*(-delta + 1),\n",
        "  c**(-gamma) == beta*c(1)**(-gamma)*(tau_c + 1)*(A*alpha*k**(alpha - 1)*(-tau_k(1) + 1) - delta + 1)/(tau_c(1) + 1)],\n",
        " 'equations_groups': OrderedDict(),\n",
        " 'init_values': {c: 0.442645, k: 1.48996},\n",
        " 'name': 'Figv4_1191',\n",
        " 'original_data': {'calibration': {'covariances': '[[1., 0., 0.],\\n [0., 1., 0.],\\n [0., 0., 1.]]\\n',\n",
        "   'parameters': {'A': 1,\n",
        "    'alpha': 0.33,\n",
        "    'beta': 0.95,\n",
        "    'delta': 0.2,\n",
        "    'gamma': 2.0},\n",
        "   'steady_state': {'c': 0.442645, 'k': 1.48996}},\n",
        "  'declarations': {'parameters': ['beta', 'gamma', 'delta', 'alpha', 'A'],\n",
        "   'shocks': ['tau_c', 'tau_k', 'g'],\n",
        "   'variables': ['c', 'k']},\n",
        "  'equations': ['k = A*k(-1)**alpha+(1-delta)*k(-1)-c-g',\n",
        "   'c**(-gamma)= beta*(c(+1)**(-gamma))*((1+tau_c)/(1+tau_c(+1)))*((1-delta) + (1-tau_k(+1))*alpha*A*k**(alpha-1))']},\n",
        " 'parameters_ordering': [beta, gamma, delta, alpha, A],\n",
        " 'parameters_values': {A: 1, alpha: 0.33, beta: 0.95, delta: 0.2, gamma: 2.0},\n",
        " 'shocks_ordering': [tau_c, tau_k, g],\n",
        " 'variables_groups': None,\n",
        " 'variables_ordering': [c, k]}"
       ]
      }
     ],
     "prompt_number": 14
    },
    {
     "cell_type": "code",
     "collapsed": false,
     "input": [],
     "language": "python",
     "metadata": {},
     "outputs": []
    }
   ],
   "metadata": {}
  }
 ]
}